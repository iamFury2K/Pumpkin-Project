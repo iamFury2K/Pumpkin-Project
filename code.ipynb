{
 "cells": [
  {
   "cell_type": "code",
   "execution_count": 1,
   "metadata": {},
   "outputs": [],
   "source": [
    "from scipy.io import arff\n",
    "import pandas as pd\n",
    "from sklearn.model_selection import train_test_split, cross_val_predict, KFold, cross_val_score\n",
    "from sklearn.preprocessing import StandardScaler, LabelEncoder\n",
    "from sklearn.linear_model import LogisticRegression\n",
    "from sklearn.neural_network import MLPClassifier\n",
    "from sklearn.svm import SVC\n",
    "from sklearn.ensemble import RandomForestClassifier\n",
    "from xgboost import XGBClassifier\n",
    "from sklearn.neighbors import KNeighborsClassifier\n",
    "from sklearn.metrics import accuracy_score, confusion_matrix\n",
    "import pandas as pd\n",
    "import seaborn as sns\n",
    "import matplotlib.pyplot as plt"
   ]
  },
  {
   "cell_type": "code",
   "execution_count": 5,
   "metadata": {},
   "outputs": [
    {
     "name": "stdout",
     "output_type": "stream",
     "text": [
      " anaconda3\t       notes\t\t\t test_resume.fls\n",
      " bserach.py\t       Pictures\t\t\t test_resume.log\n",
      " clip_interrogator     Public\t\t\t test_resume.out\n",
      " Desktop\t       python_learning\t\t test_resume.pdf\n",
      " Documents\t       readme.txt\t\t test_resume.tex\n",
      " Downloads\t       slarge.py\t\t'Untitled Folder'\n",
      " install.sh\t       temp_dot_env\t\t Videos\n",
      " javasharedresources   Templates\t\t Warpinator\n",
      " ml\t\t       test.py\t\t\t xdm-setup-7.2.11.tar.xz\n",
      " Music\t\t       test_resume.aux\t\t yt_downloaded\n",
      " neolen_demo_smp       test_resume.fdb_latexmk\t yt_download.py\n"
     ]
    }
   ],
   "source": [
    "!ls"
   ]
  },
  {
   "cell_type": "code",
   "execution_count": 3,
   "metadata": {},
   "outputs": [
    {
     "ename": "FileNotFoundError",
     "evalue": "[Errno 2] No such file or directory: 'Pumpkin_Seeds_Dataset.arff'",
     "output_type": "error",
     "traceback": [
      "\u001b[0;31m---------------------------------------------------------------------------\u001b[0m",
      "\u001b[0;31mFileNotFoundError\u001b[0m                         Traceback (most recent call last)",
      "Cell \u001b[0;32mIn[3], line 1\u001b[0m\n\u001b[0;32m----> 1\u001b[0m data, meta \u001b[39m=\u001b[39m arff\u001b[39m.\u001b[39;49mloadarff(\u001b[39m'\u001b[39;49m\u001b[39mPumpkin_Seeds_Dataset.arff\u001b[39;49m\u001b[39m'\u001b[39;49m)\n",
      "File \u001b[0;32m~/anaconda3/envs/ldm/lib/python3.8/site-packages/scipy/io/arff/_arffread.py:800\u001b[0m, in \u001b[0;36mloadarff\u001b[0;34m(f)\u001b[0m\n\u001b[1;32m    798\u001b[0m     ofile \u001b[39m=\u001b[39m f\n\u001b[1;32m    799\u001b[0m \u001b[39melse\u001b[39;00m:\n\u001b[0;32m--> 800\u001b[0m     ofile \u001b[39m=\u001b[39m \u001b[39mopen\u001b[39;49m(f, \u001b[39m'\u001b[39;49m\u001b[39mrt\u001b[39;49m\u001b[39m'\u001b[39;49m)\n\u001b[1;32m    801\u001b[0m \u001b[39mtry\u001b[39;00m:\n\u001b[1;32m    802\u001b[0m     \u001b[39mreturn\u001b[39;00m _loadarff(ofile)\n",
      "\u001b[0;31mFileNotFoundError\u001b[0m: [Errno 2] No such file or directory: 'Pumpkin_Seeds_Dataset.arff'"
     ]
    }
   ],
   "source": [
    "data, meta = arff.loadarff('Pumpkin_Seeds_Dataset.arff')"
   ]
  },
  {
   "cell_type": "code",
   "execution_count": null,
   "metadata": {},
   "outputs": [],
   "source": [
    "df = pd.DataFrame(data)"
   ]
  },
  {
   "cell_type": "code",
   "execution_count": null,
   "metadata": {},
   "outputs": [],
   "source": [
    "df.dropna(inplace=True)"
   ]
  },
  {
   "cell_type": "code",
   "execution_count": null,
   "metadata": {},
   "outputs": [
    {
     "name": "stdout",
     "output_type": "stream",
     "text": [
      "<class 'pandas.core.frame.DataFrame'>\n",
      "RangeIndex: 2500 entries, 0 to 2499\n",
      "Data columns (total 13 columns):\n",
      " #   Column             Non-Null Count  Dtype  \n",
      "---  ------             --------------  -----  \n",
      " 0   Area               2500 non-null   float64\n",
      " 1   Perimeter          2500 non-null   float64\n",
      " 2   Major_Axis_Length  2500 non-null   float64\n",
      " 3   Minor_Axis_Length  2500 non-null   float64\n",
      " 4   Convex_Area        2500 non-null   float64\n",
      " 5   Equiv_Diameter     2500 non-null   float64\n",
      " 6   Eccentricity       2500 non-null   float64\n",
      " 7   Solidity           2500 non-null   float64\n",
      " 8   Extent             2500 non-null   float64\n",
      " 9   Roundness          2500 non-null   float64\n",
      " 10  Aspect_Ration      2500 non-null   float64\n",
      " 11  Compactness        2500 non-null   float64\n",
      " 12  Class              2500 non-null   object \n",
      "dtypes: float64(12), object(1)\n",
      "memory usage: 254.0+ KB\n"
     ]
    }
   ],
   "source": [
    "df.info()"
   ]
  },
  {
   "cell_type": "code",
   "execution_count": null,
   "metadata": {},
   "outputs": [],
   "source": [
    "columns = df.columns.tolist()"
   ]
  },
  {
   "cell_type": "code",
   "execution_count": null,
   "metadata": {},
   "outputs": [
    {
     "data": {
      "text/plain": [
       "'Class'"
      ]
     },
     "execution_count": 7,
     "metadata": {},
     "output_type": "execute_result"
    }
   ],
   "source": [
    "columns.pop()"
   ]
  },
  {
   "cell_type": "code",
   "execution_count": null,
   "metadata": {},
   "outputs": [
    {
     "data": {
      "text/plain": [
       "['Area',\n",
       " 'Perimeter',\n",
       " 'Major_Axis_Length',\n",
       " 'Minor_Axis_Length',\n",
       " 'Convex_Area',\n",
       " 'Equiv_Diameter',\n",
       " 'Eccentricity',\n",
       " 'Solidity',\n",
       " 'Extent',\n",
       " 'Roundness',\n",
       " 'Aspect_Ration',\n",
       " 'Compactness']"
      ]
     },
     "execution_count": 8,
     "metadata": {},
     "output_type": "execute_result"
    }
   ],
   "source": [
    "columns"
   ]
  },
  {
   "cell_type": "code",
   "execution_count": null,
   "metadata": {},
   "outputs": [
    {
     "data": {
      "text/html": [
       "<div>\n",
       "<style scoped>\n",
       "    .dataframe tbody tr th:only-of-type {\n",
       "        vertical-align: middle;\n",
       "    }\n",
       "\n",
       "    .dataframe tbody tr th {\n",
       "        vertical-align: top;\n",
       "    }\n",
       "\n",
       "    .dataframe thead th {\n",
       "        text-align: right;\n",
       "    }\n",
       "</style>\n",
       "<table border=\"1\" class=\"dataframe\">\n",
       "  <thead>\n",
       "    <tr style=\"text-align: right;\">\n",
       "      <th></th>\n",
       "      <th>Area</th>\n",
       "      <th>Perimeter</th>\n",
       "      <th>Major_Axis_Length</th>\n",
       "      <th>Minor_Axis_Length</th>\n",
       "      <th>Convex_Area</th>\n",
       "      <th>Equiv_Diameter</th>\n",
       "      <th>Eccentricity</th>\n",
       "      <th>Solidity</th>\n",
       "      <th>Extent</th>\n",
       "      <th>Roundness</th>\n",
       "      <th>Aspect_Ration</th>\n",
       "      <th>Compactness</th>\n",
       "    </tr>\n",
       "  </thead>\n",
       "  <tbody>\n",
       "    <tr>\n",
       "      <th>0</th>\n",
       "      <td>-1.784703</td>\n",
       "      <td>-2.215755</td>\n",
       "      <td>-2.320224</td>\n",
       "      <td>-0.238536</td>\n",
       "      <td>-1.793218</td>\n",
       "      <td>-1.921174</td>\n",
       "      <td>-2.729935</td>\n",
       "      <td>0.202812</td>\n",
       "      <td>0.855406</td>\n",
       "      <td>1.873763</td>\n",
       "      <td>-1.775063</td>\n",
       "      <td>2.197280</td>\n",
       "    </tr>\n",
       "    <tr>\n",
       "      <th>1</th>\n",
       "      <td>-0.294780</td>\n",
       "      <td>-0.568804</td>\n",
       "      <td>-0.700916</td>\n",
       "      <td>0.362089</td>\n",
       "      <td>-0.307244</td>\n",
       "      <td>-0.259343</td>\n",
       "      <td>-0.739163</td>\n",
       "      <td>0.603626</td>\n",
       "      <td>0.359523</td>\n",
       "      <td>0.938377</td>\n",
       "      <td>-0.824864</td>\n",
       "      <td>0.840230</td>\n",
       "    </tr>\n",
       "    <tr>\n",
       "      <th>2</th>\n",
       "      <td>-0.661350</td>\n",
       "      <td>-0.432940</td>\n",
       "      <td>-0.369395</td>\n",
       "      <td>-0.633215</td>\n",
       "      <td>-0.642749</td>\n",
       "      <td>-0.645380</td>\n",
       "      <td>0.310476</td>\n",
       "      <td>-1.085518</td>\n",
       "      <td>0.768380</td>\n",
       "      <td>-0.431615</td>\n",
       "      <td>0.074059</td>\n",
       "      <td>-0.211483</td>\n",
       "    </tr>\n",
       "    <tr>\n",
       "      <th>3</th>\n",
       "      <td>-1.039412</td>\n",
       "      <td>-1.265424</td>\n",
       "      <td>-1.334616</td>\n",
       "      <td>-0.140076</td>\n",
       "      <td>-1.045689</td>\n",
       "      <td>-1.057939</td>\n",
       "      <td>-1.075756</td>\n",
       "      <td>0.202812</td>\n",
       "      <td>0.761812</td>\n",
       "      <td>1.020648</td>\n",
       "      <td>-1.035351</td>\n",
       "      <td>1.098447</td>\n",
       "    </tr>\n",
       "    <tr>\n",
       "      <th>4</th>\n",
       "      <td>-1.065105</td>\n",
       "      <td>-1.209626</td>\n",
       "      <td>-1.293272</td>\n",
       "      <td>-0.229276</td>\n",
       "      <td>-1.045762</td>\n",
       "      <td>-1.086548</td>\n",
       "      <td>-0.934033</td>\n",
       "      <td>-1.285925</td>\n",
       "      <td>-0.295634</td>\n",
       "      <td>0.755950</td>\n",
       "      <td>-0.950840</td>\n",
       "      <td>0.972166</td>\n",
       "    </tr>\n",
       "    <tr>\n",
       "      <th>...</th>\n",
       "      <td>...</td>\n",
       "      <td>...</td>\n",
       "      <td>...</td>\n",
       "      <td>...</td>\n",
       "      <td>...</td>\n",
       "      <td>...</td>\n",
       "      <td>...</td>\n",
       "      <td>...</td>\n",
       "      <td>...</td>\n",
       "      <td>...</td>\n",
       "      <td>...</td>\n",
       "      <td>...</td>\n",
       "    </tr>\n",
       "    <tr>\n",
       "      <th>2495</th>\n",
       "      <td>-0.074750</td>\n",
       "      <td>0.864479</td>\n",
       "      <td>1.361498</td>\n",
       "      <td>-1.518003</td>\n",
       "      <td>-0.081902</td>\n",
       "      <td>-0.033672</td>\n",
       "      <td>1.619204</td>\n",
       "      <td>0.345960</td>\n",
       "      <td>-3.356315</td>\n",
       "      <td>-2.223692</td>\n",
       "      <td>2.398914</td>\n",
       "      <td>-2.013344</td>\n",
       "    </tr>\n",
       "    <tr>\n",
       "      <th>2496</th>\n",
       "      <td>-0.805987</td>\n",
       "      <td>-0.420755</td>\n",
       "      <td>0.112758</td>\n",
       "      <td>-1.458572</td>\n",
       "      <td>-0.820566</td>\n",
       "      <td>-0.801398</td>\n",
       "      <td>1.089955</td>\n",
       "      <td>0.689514</td>\n",
       "      <td>-1.527131</td>\n",
       "      <td>-0.842970</td>\n",
       "      <td>1.176505</td>\n",
       "      <td>-1.146340</td>\n",
       "    </tr>\n",
       "    <tr>\n",
       "      <th>2497</th>\n",
       "      <td>0.536956</td>\n",
       "      <td>0.732689</td>\n",
       "      <td>0.900287</td>\n",
       "      <td>-0.154887</td>\n",
       "      <td>0.522763</td>\n",
       "      <td>0.572244</td>\n",
       "      <td>0.844154</td>\n",
       "      <td>0.718144</td>\n",
       "      <td>1.167385</td>\n",
       "      <td>-0.655177</td>\n",
       "      <td>0.763128</td>\n",
       "      <td>-0.833465</td>\n",
       "    </tr>\n",
       "    <tr>\n",
       "      <th>2498</th>\n",
       "      <td>-0.047375</td>\n",
       "      <td>0.482155</td>\n",
       "      <td>0.805782</td>\n",
       "      <td>-0.903370</td>\n",
       "      <td>-0.044043</td>\n",
       "      <td>-0.005893</td>\n",
       "      <td>1.154174</td>\n",
       "      <td>-0.140743</td>\n",
       "      <td>0.725688</td>\n",
       "      <td>-1.306191</td>\n",
       "      <td>1.296467</td>\n",
       "      <td>-1.285814</td>\n",
       "    </tr>\n",
       "    <tr>\n",
       "      <th>2499</th>\n",
       "      <td>0.312974</td>\n",
       "      <td>0.271471</td>\n",
       "      <td>0.111931</td>\n",
       "      <td>0.376291</td>\n",
       "      <td>0.310501</td>\n",
       "      <td>0.353867</td>\n",
       "      <td>0.027029</td>\n",
       "      <td>0.174182</td>\n",
       "      <td>0.702700</td>\n",
       "      <td>0.031607</td>\n",
       "      <td>-0.215875</td>\n",
       "      <td>0.118355</td>\n",
       "    </tr>\n",
       "  </tbody>\n",
       "</table>\n",
       "<p>2500 rows × 12 columns</p>\n",
       "</div>"
      ],
      "text/plain": [
       "          Area  Perimeter  Major_Axis_Length  Minor_Axis_Length  Convex_Area  \\\n",
       "0    -1.784703  -2.215755          -2.320224          -0.238536    -1.793218   \n",
       "1    -0.294780  -0.568804          -0.700916           0.362089    -0.307244   \n",
       "2    -0.661350  -0.432940          -0.369395          -0.633215    -0.642749   \n",
       "3    -1.039412  -1.265424          -1.334616          -0.140076    -1.045689   \n",
       "4    -1.065105  -1.209626          -1.293272          -0.229276    -1.045762   \n",
       "...        ...        ...                ...                ...          ...   \n",
       "2495 -0.074750   0.864479           1.361498          -1.518003    -0.081902   \n",
       "2496 -0.805987  -0.420755           0.112758          -1.458572    -0.820566   \n",
       "2497  0.536956   0.732689           0.900287          -0.154887     0.522763   \n",
       "2498 -0.047375   0.482155           0.805782          -0.903370    -0.044043   \n",
       "2499  0.312974   0.271471           0.111931           0.376291     0.310501   \n",
       "\n",
       "      Equiv_Diameter  Eccentricity  Solidity    Extent  Roundness  \\\n",
       "0          -1.921174     -2.729935  0.202812  0.855406   1.873763   \n",
       "1          -0.259343     -0.739163  0.603626  0.359523   0.938377   \n",
       "2          -0.645380      0.310476 -1.085518  0.768380  -0.431615   \n",
       "3          -1.057939     -1.075756  0.202812  0.761812   1.020648   \n",
       "4          -1.086548     -0.934033 -1.285925 -0.295634   0.755950   \n",
       "...              ...           ...       ...       ...        ...   \n",
       "2495       -0.033672      1.619204  0.345960 -3.356315  -2.223692   \n",
       "2496       -0.801398      1.089955  0.689514 -1.527131  -0.842970   \n",
       "2497        0.572244      0.844154  0.718144  1.167385  -0.655177   \n",
       "2498       -0.005893      1.154174 -0.140743  0.725688  -1.306191   \n",
       "2499        0.353867      0.027029  0.174182  0.702700   0.031607   \n",
       "\n",
       "      Aspect_Ration  Compactness  \n",
       "0         -1.775063     2.197280  \n",
       "1         -0.824864     0.840230  \n",
       "2          0.074059    -0.211483  \n",
       "3         -1.035351     1.098447  \n",
       "4         -0.950840     0.972166  \n",
       "...             ...          ...  \n",
       "2495       2.398914    -2.013344  \n",
       "2496       1.176505    -1.146340  \n",
       "2497       0.763128    -0.833465  \n",
       "2498       1.296467    -1.285814  \n",
       "2499      -0.215875     0.118355  \n",
       "\n",
       "[2500 rows x 12 columns]"
      ]
     },
     "execution_count": 9,
     "metadata": {},
     "output_type": "execute_result"
    }
   ],
   "source": [
    "s_scale = StandardScaler()\n",
    "df[columns] = s_scale.fit_transform(df[columns])\n",
    "df[columns]"
   ]
  },
  {
   "cell_type": "code",
   "execution_count": null,
   "metadata": {},
   "outputs": [
    {
     "data": {
      "text/plain": [
       "0       0\n",
       "1       0\n",
       "2       0\n",
       "3       0\n",
       "4       0\n",
       "       ..\n",
       "2495    1\n",
       "2496    1\n",
       "2497    1\n",
       "2498    1\n",
       "2499    1\n",
       "Name: Class, Length: 2500, dtype: int64"
      ]
     },
     "execution_count": 10,
     "metadata": {},
     "output_type": "execute_result"
    }
   ],
   "source": [
    "le_encoder = LabelEncoder()\n",
    "df['Class'] = le_encoder.fit_transform(df['Class'])\n",
    "df['Class']"
   ]
  },
  {
   "cell_type": "code",
   "execution_count": null,
   "metadata": {},
   "outputs": [
    {
     "data": {
      "text/html": [
       "<div>\n",
       "<style scoped>\n",
       "    .dataframe tbody tr th:only-of-type {\n",
       "        vertical-align: middle;\n",
       "    }\n",
       "\n",
       "    .dataframe tbody tr th {\n",
       "        vertical-align: top;\n",
       "    }\n",
       "\n",
       "    .dataframe thead th {\n",
       "        text-align: right;\n",
       "    }\n",
       "</style>\n",
       "<table border=\"1\" class=\"dataframe\">\n",
       "  <thead>\n",
       "    <tr style=\"text-align: right;\">\n",
       "      <th></th>\n",
       "      <th>Area</th>\n",
       "      <th>Perimeter</th>\n",
       "      <th>Major_Axis_Length</th>\n",
       "      <th>Minor_Axis_Length</th>\n",
       "      <th>Convex_Area</th>\n",
       "      <th>Equiv_Diameter</th>\n",
       "      <th>Eccentricity</th>\n",
       "      <th>Solidity</th>\n",
       "      <th>Extent</th>\n",
       "      <th>Roundness</th>\n",
       "      <th>Aspect_Ration</th>\n",
       "      <th>Compactness</th>\n",
       "      <th>Class</th>\n",
       "    </tr>\n",
       "  </thead>\n",
       "  <tbody>\n",
       "    <tr>\n",
       "      <th>0</th>\n",
       "      <td>-1.784703</td>\n",
       "      <td>-2.215755</td>\n",
       "      <td>-2.320224</td>\n",
       "      <td>-0.238536</td>\n",
       "      <td>-1.793218</td>\n",
       "      <td>-1.921174</td>\n",
       "      <td>-2.729935</td>\n",
       "      <td>0.202812</td>\n",
       "      <td>0.855406</td>\n",
       "      <td>1.873763</td>\n",
       "      <td>-1.775063</td>\n",
       "      <td>2.197280</td>\n",
       "      <td>0</td>\n",
       "    </tr>\n",
       "    <tr>\n",
       "      <th>1</th>\n",
       "      <td>-0.294780</td>\n",
       "      <td>-0.568804</td>\n",
       "      <td>-0.700916</td>\n",
       "      <td>0.362089</td>\n",
       "      <td>-0.307244</td>\n",
       "      <td>-0.259343</td>\n",
       "      <td>-0.739163</td>\n",
       "      <td>0.603626</td>\n",
       "      <td>0.359523</td>\n",
       "      <td>0.938377</td>\n",
       "      <td>-0.824864</td>\n",
       "      <td>0.840230</td>\n",
       "      <td>0</td>\n",
       "    </tr>\n",
       "    <tr>\n",
       "      <th>2</th>\n",
       "      <td>-0.661350</td>\n",
       "      <td>-0.432940</td>\n",
       "      <td>-0.369395</td>\n",
       "      <td>-0.633215</td>\n",
       "      <td>-0.642749</td>\n",
       "      <td>-0.645380</td>\n",
       "      <td>0.310476</td>\n",
       "      <td>-1.085518</td>\n",
       "      <td>0.768380</td>\n",
       "      <td>-0.431615</td>\n",
       "      <td>0.074059</td>\n",
       "      <td>-0.211483</td>\n",
       "      <td>0</td>\n",
       "    </tr>\n",
       "    <tr>\n",
       "      <th>3</th>\n",
       "      <td>-1.039412</td>\n",
       "      <td>-1.265424</td>\n",
       "      <td>-1.334616</td>\n",
       "      <td>-0.140076</td>\n",
       "      <td>-1.045689</td>\n",
       "      <td>-1.057939</td>\n",
       "      <td>-1.075756</td>\n",
       "      <td>0.202812</td>\n",
       "      <td>0.761812</td>\n",
       "      <td>1.020648</td>\n",
       "      <td>-1.035351</td>\n",
       "      <td>1.098447</td>\n",
       "      <td>0</td>\n",
       "    </tr>\n",
       "    <tr>\n",
       "      <th>4</th>\n",
       "      <td>-1.065105</td>\n",
       "      <td>-1.209626</td>\n",
       "      <td>-1.293272</td>\n",
       "      <td>-0.229276</td>\n",
       "      <td>-1.045762</td>\n",
       "      <td>-1.086548</td>\n",
       "      <td>-0.934033</td>\n",
       "      <td>-1.285925</td>\n",
       "      <td>-0.295634</td>\n",
       "      <td>0.755950</td>\n",
       "      <td>-0.950840</td>\n",
       "      <td>0.972166</td>\n",
       "      <td>0</td>\n",
       "    </tr>\n",
       "    <tr>\n",
       "      <th>...</th>\n",
       "      <td>...</td>\n",
       "      <td>...</td>\n",
       "      <td>...</td>\n",
       "      <td>...</td>\n",
       "      <td>...</td>\n",
       "      <td>...</td>\n",
       "      <td>...</td>\n",
       "      <td>...</td>\n",
       "      <td>...</td>\n",
       "      <td>...</td>\n",
       "      <td>...</td>\n",
       "      <td>...</td>\n",
       "      <td>...</td>\n",
       "    </tr>\n",
       "    <tr>\n",
       "      <th>2495</th>\n",
       "      <td>-0.074750</td>\n",
       "      <td>0.864479</td>\n",
       "      <td>1.361498</td>\n",
       "      <td>-1.518003</td>\n",
       "      <td>-0.081902</td>\n",
       "      <td>-0.033672</td>\n",
       "      <td>1.619204</td>\n",
       "      <td>0.345960</td>\n",
       "      <td>-3.356315</td>\n",
       "      <td>-2.223692</td>\n",
       "      <td>2.398914</td>\n",
       "      <td>-2.013344</td>\n",
       "      <td>1</td>\n",
       "    </tr>\n",
       "    <tr>\n",
       "      <th>2496</th>\n",
       "      <td>-0.805987</td>\n",
       "      <td>-0.420755</td>\n",
       "      <td>0.112758</td>\n",
       "      <td>-1.458572</td>\n",
       "      <td>-0.820566</td>\n",
       "      <td>-0.801398</td>\n",
       "      <td>1.089955</td>\n",
       "      <td>0.689514</td>\n",
       "      <td>-1.527131</td>\n",
       "      <td>-0.842970</td>\n",
       "      <td>1.176505</td>\n",
       "      <td>-1.146340</td>\n",
       "      <td>1</td>\n",
       "    </tr>\n",
       "    <tr>\n",
       "      <th>2497</th>\n",
       "      <td>0.536956</td>\n",
       "      <td>0.732689</td>\n",
       "      <td>0.900287</td>\n",
       "      <td>-0.154887</td>\n",
       "      <td>0.522763</td>\n",
       "      <td>0.572244</td>\n",
       "      <td>0.844154</td>\n",
       "      <td>0.718144</td>\n",
       "      <td>1.167385</td>\n",
       "      <td>-0.655177</td>\n",
       "      <td>0.763128</td>\n",
       "      <td>-0.833465</td>\n",
       "      <td>1</td>\n",
       "    </tr>\n",
       "    <tr>\n",
       "      <th>2498</th>\n",
       "      <td>-0.047375</td>\n",
       "      <td>0.482155</td>\n",
       "      <td>0.805782</td>\n",
       "      <td>-0.903370</td>\n",
       "      <td>-0.044043</td>\n",
       "      <td>-0.005893</td>\n",
       "      <td>1.154174</td>\n",
       "      <td>-0.140743</td>\n",
       "      <td>0.725688</td>\n",
       "      <td>-1.306191</td>\n",
       "      <td>1.296467</td>\n",
       "      <td>-1.285814</td>\n",
       "      <td>1</td>\n",
       "    </tr>\n",
       "    <tr>\n",
       "      <th>2499</th>\n",
       "      <td>0.312974</td>\n",
       "      <td>0.271471</td>\n",
       "      <td>0.111931</td>\n",
       "      <td>0.376291</td>\n",
       "      <td>0.310501</td>\n",
       "      <td>0.353867</td>\n",
       "      <td>0.027029</td>\n",
       "      <td>0.174182</td>\n",
       "      <td>0.702700</td>\n",
       "      <td>0.031607</td>\n",
       "      <td>-0.215875</td>\n",
       "      <td>0.118355</td>\n",
       "      <td>1</td>\n",
       "    </tr>\n",
       "  </tbody>\n",
       "</table>\n",
       "<p>2500 rows × 13 columns</p>\n",
       "</div>"
      ],
      "text/plain": [
       "          Area  Perimeter  Major_Axis_Length  Minor_Axis_Length  Convex_Area  \\\n",
       "0    -1.784703  -2.215755          -2.320224          -0.238536    -1.793218   \n",
       "1    -0.294780  -0.568804          -0.700916           0.362089    -0.307244   \n",
       "2    -0.661350  -0.432940          -0.369395          -0.633215    -0.642749   \n",
       "3    -1.039412  -1.265424          -1.334616          -0.140076    -1.045689   \n",
       "4    -1.065105  -1.209626          -1.293272          -0.229276    -1.045762   \n",
       "...        ...        ...                ...                ...          ...   \n",
       "2495 -0.074750   0.864479           1.361498          -1.518003    -0.081902   \n",
       "2496 -0.805987  -0.420755           0.112758          -1.458572    -0.820566   \n",
       "2497  0.536956   0.732689           0.900287          -0.154887     0.522763   \n",
       "2498 -0.047375   0.482155           0.805782          -0.903370    -0.044043   \n",
       "2499  0.312974   0.271471           0.111931           0.376291     0.310501   \n",
       "\n",
       "      Equiv_Diameter  Eccentricity  Solidity    Extent  Roundness  \\\n",
       "0          -1.921174     -2.729935  0.202812  0.855406   1.873763   \n",
       "1          -0.259343     -0.739163  0.603626  0.359523   0.938377   \n",
       "2          -0.645380      0.310476 -1.085518  0.768380  -0.431615   \n",
       "3          -1.057939     -1.075756  0.202812  0.761812   1.020648   \n",
       "4          -1.086548     -0.934033 -1.285925 -0.295634   0.755950   \n",
       "...              ...           ...       ...       ...        ...   \n",
       "2495       -0.033672      1.619204  0.345960 -3.356315  -2.223692   \n",
       "2496       -0.801398      1.089955  0.689514 -1.527131  -0.842970   \n",
       "2497        0.572244      0.844154  0.718144  1.167385  -0.655177   \n",
       "2498       -0.005893      1.154174 -0.140743  0.725688  -1.306191   \n",
       "2499        0.353867      0.027029  0.174182  0.702700   0.031607   \n",
       "\n",
       "      Aspect_Ration  Compactness  Class  \n",
       "0         -1.775063     2.197280      0  \n",
       "1         -0.824864     0.840230      0  \n",
       "2          0.074059    -0.211483      0  \n",
       "3         -1.035351     1.098447      0  \n",
       "4         -0.950840     0.972166      0  \n",
       "...             ...          ...    ...  \n",
       "2495       2.398914    -2.013344      1  \n",
       "2496       1.176505    -1.146340      1  \n",
       "2497       0.763128    -0.833465      1  \n",
       "2498       1.296467    -1.285814      1  \n",
       "2499      -0.215875     0.118355      1  \n",
       "\n",
       "[2500 rows x 13 columns]"
      ]
     },
     "execution_count": 11,
     "metadata": {},
     "output_type": "execute_result"
    }
   ],
   "source": [
    "df"
   ]
  },
  {
   "cell_type": "code",
   "execution_count": null,
   "metadata": {},
   "outputs": [],
   "source": [
    "X = df.drop(columns=\"Class\")\n",
    "y = df['Class'].copy()"
   ]
  },
  {
   "cell_type": "code",
   "execution_count": null,
   "metadata": {},
   "outputs": [
    {
     "data": {
      "text/plain": [
       "(          Area  Perimeter  Major_Axis_Length  Minor_Axis_Length  Convex_Area  \\\n",
       " 0    -1.784703  -2.215755          -2.320224          -0.238536    -1.793218   \n",
       " 1    -0.294780  -0.568804          -0.700916           0.362089    -0.307244   \n",
       " 2    -0.661350  -0.432940          -0.369395          -0.633215    -0.642749   \n",
       " 3    -1.039412  -1.265424          -1.334616          -0.140076    -1.045689   \n",
       " 4    -1.065105  -1.209626          -1.293272          -0.229276    -1.045762   \n",
       " ...        ...        ...                ...                ...          ...   \n",
       " 2495 -0.074750   0.864479           1.361498          -1.518003    -0.081902   \n",
       " 2496 -0.805987  -0.420755           0.112758          -1.458572    -0.820566   \n",
       " 2497  0.536956   0.732689           0.900287          -0.154887     0.522763   \n",
       " 2498 -0.047375   0.482155           0.805782          -0.903370    -0.044043   \n",
       " 2499  0.312974   0.271471           0.111931           0.376291     0.310501   \n",
       " \n",
       "       Equiv_Diameter  Eccentricity  Solidity    Extent  Roundness  \\\n",
       " 0          -1.921174     -2.729935  0.202812  0.855406   1.873763   \n",
       " 1          -0.259343     -0.739163  0.603626  0.359523   0.938377   \n",
       " 2          -0.645380      0.310476 -1.085518  0.768380  -0.431615   \n",
       " 3          -1.057939     -1.075756  0.202812  0.761812   1.020648   \n",
       " 4          -1.086548     -0.934033 -1.285925 -0.295634   0.755950   \n",
       " ...              ...           ...       ...       ...        ...   \n",
       " 2495       -0.033672      1.619204  0.345960 -3.356315  -2.223692   \n",
       " 2496       -0.801398      1.089955  0.689514 -1.527131  -0.842970   \n",
       " 2497        0.572244      0.844154  0.718144  1.167385  -0.655177   \n",
       " 2498       -0.005893      1.154174 -0.140743  0.725688  -1.306191   \n",
       " 2499        0.353867      0.027029  0.174182  0.702700   0.031607   \n",
       " \n",
       "       Aspect_Ration  Compactness  \n",
       " 0         -1.775063     2.197280  \n",
       " 1         -0.824864     0.840230  \n",
       " 2          0.074059    -0.211483  \n",
       " 3         -1.035351     1.098447  \n",
       " 4         -0.950840     0.972166  \n",
       " ...             ...          ...  \n",
       " 2495       2.398914    -2.013344  \n",
       " 2496       1.176505    -1.146340  \n",
       " 2497       0.763128    -0.833465  \n",
       " 2498       1.296467    -1.285814  \n",
       " 2499      -0.215875     0.118355  \n",
       " \n",
       " [2500 rows x 12 columns],\n",
       " 0       0\n",
       " 1       0\n",
       " 2       0\n",
       " 3       0\n",
       " 4       0\n",
       "        ..\n",
       " 2495    1\n",
       " 2496    1\n",
       " 2497    1\n",
       " 2498    1\n",
       " 2499    1\n",
       " Name: Class, Length: 2500, dtype: int64)"
      ]
     },
     "execution_count": 13,
     "metadata": {},
     "output_type": "execute_result"
    }
   ],
   "source": [
    "X,y"
   ]
  },
  {
   "cell_type": "code",
   "execution_count": null,
   "metadata": {},
   "outputs": [],
   "source": [
    "logistic_reg = LogisticRegression()\n",
    "mlp = MLPClassifier(hidden_layer_sizes=(100, 50), max_iter=1000, random_state=42)\n",
    "svm = SVC(kernel='linear', C=1.0, random_state=42)\n",
    "random_forest = RandomForestClassifier(n_estimators=100, random_state=42)\n",
    "xgboost = XGBClassifier(booster='gbtree', random_state=42)\n",
    "knn = KNeighborsClassifier(n_neighbors=5)"
   ]
  },
  {
   "cell_type": "code",
   "execution_count": null,
   "metadata": {},
   "outputs": [],
   "source": [
    "classifiers = [\n",
    "    (\"Logistic Regression\", logistic_reg),\n",
    "    (\"SVM\", svm),\n",
    "    (\"Random Forest\", random_forest),\n",
    "    (\"XGBoost\", xgboost),\n",
    "    (\"KNN\", knn)\n",
    "]"
   ]
  },
  {
   "cell_type": "code",
   "execution_count": null,
   "metadata": {},
   "outputs": [
    {
     "name": "stdout",
     "output_type": "stream",
     "text": [
      "Classifier: Logistic Regression\n",
      "Cross-validation Accuracy Scores: [0.876 0.84  0.892 0.904 0.86  0.912 0.9   0.88  0.856 0.892]\n",
      "Mean Cross-validation Accuracy: 0.8812\n"
     ]
    },
    {
     "data": {
      "image/png": "[encoded data removed]",
      "text/plain": [
       "<Figure size 800x600 with 1 Axes>"
      ]
     },
     "metadata": {},
     "output_type": "display_data"
    },
    {
     "name": "stdout",
     "output_type": "stream",
     "text": [
      "------------------------------\n",
      "Classifier: SVM\n",
      "Cross-validation Accuracy Scores: [0.876 0.844 0.892 0.892 0.848 0.904 0.9   0.884 0.868 0.892]\n",
      "Mean Cross-validation Accuracy: 0.8800000000000001\n"
     ]
    },
    {
     "data": {
      "image/png": "[encoded data removed]",
      "text/plain": [
       "<Figure size 800x600 with 1 Axes>"
      ]
     },
     "metadata": {},
     "output_type": "display_data"
    },
    {
     "name": "stdout",
     "output_type": "stream",
     "text": [
      "------------------------------\n",
      "Classifier: Random Forest\n",
      "Cross-validation Accuracy Scores: [0.868 0.876 0.9   0.912 0.86  0.916 0.884 0.9   0.88  0.908]\n",
      "Mean Cross-validation Accuracy: 0.8904\n"
     ]
    },
    {
     "data": {
      "image/png": "[encoded data removed]",
      "text/plain": [
       "<Figure size 800x600 with 1 Axes>"
      ]
     },
     "metadata": {},
     "output_type": "display_data"
    },
    {
     "name": "stdout",
     "output_type": "stream",
     "text": [
      "------------------------------\n",
      "Classifier: XGBoost\n",
      "Cross-validation Accuracy Scores: [0.876 0.86  0.884 0.884 0.872 0.912 0.892 0.876 0.852 0.896]\n",
      "Mean Cross-validation Accuracy: 0.8804000000000001\n"
     ]
    },
    {
     "data": {
      "image/png": "[encoded data removed]",
      "text/plain": [
       "<Figure size 800x600 with 1 Axes>"
      ]
     },
     "metadata": {},
     "output_type": "display_data"
    },
    {
     "name": "stdout",
     "output_type": "stream",
     "text": [
      "------------------------------\n",
      "Classifier: KNN\n",
      "Cross-validation Accuracy Scores: [0.86  0.852 0.884 0.884 0.88  0.912 0.876 0.88  0.876 0.872]\n",
      "Mean Cross-validation Accuracy: 0.8776000000000002\n"
     ]
    },
    {
     "data": {
      "image/png": "[encoded data removed]",
      "text/plain": [
       "<Figure size 800x600 with 1 Axes>"
      ]
     },
     "metadata": {},
     "output_type": "display_data"
    },
    {
     "name": "stdout",
     "output_type": "stream",
     "text": [
      "------------------------------\n"
     ]
    }
   ],
   "source": [
    "k_folds  = 10\n",
    "for name, classifier in classifiers:\n",
    "    print(\"Classifier:\", name)\n",
    "\n",
    "    # Cross-validation\n",
    "    kf = KFold(n_splits=k_folds, shuffle=True, random_state=42)\n",
    "    cv_scores = cross_val_score(classifier, X, y, cv=kf)\n",
    "    print(\"Cross-validation Accuracy Scores:\", cv_scores)\n",
    "    print(\"Mean Cross-validation Accuracy:\", cv_scores.mean())\n",
    "\n",
    "    predicted_labels = cross_val_predict(classifier, X, y, cv=kf)\n",
    "    cm = confusion_matrix(y, predicted_labels)\n",
    "    \n",
    "    plt.figure(figsize=(8, 6))\n",
    "    sns.heatmap(cm, annot=True, fmt=\"d\", cmap=\"Blues\", cbar=False)\n",
    "    plt.title(f\"Confusion Matrix - {name}\")\n",
    "    plt.xlabel(\"Predicted Label\")\n",
    "    plt.ylabel(\"True Label\")\n",
    "    plt.show()\n",
    "\n",
    "    print(\"------------------------------\")"
   ]
  },
  {
   "cell_type": "code",
   "execution_count": null,
   "metadata": {},
   "outputs": [],
   "source": []
  }
 ],
 "metadata": {
  "kernelspec": {
   "display_name": "ldm",
   "language": "python",
   "name": "python3"
  },
  "language_info": {
   "codemirror_mode": {
    "name": "ipython",
    "version": 3
   },
   "file_extension": ".py",
   "mimetype": "text/x-python",
   "name": "python",
   "nbconvert_exporter": "python",
   "pygments_lexer": "ipython3",
   "version": "3.8.5"
  },
  "orig_nbformat": 4
 },
 "nbformat": 4,
 "nbformat_minor": 2
}
